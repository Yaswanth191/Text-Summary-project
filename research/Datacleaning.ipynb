{
 "cells": [
  {
   "cell_type": "code",
   "execution_count": 4,
   "metadata": {},
   "outputs": [
    {
     "name": "stdout",
     "output_type": "stream",
     "text": [
      "✅ File extracted successfully.\n"
     ]
    }
   ],
   "source": [
    "import zipfile\n",
    "\n",
    "zip_path = r\"C:\\Users\\YASWANTH\\Desktop\\samsumdata.zip\"\n",
    "extract_path = r\"C:\\Users\\YASWANTH\\Desktop\\samsumdata\"\n",
    "\n",
    "# Extract ZIP file\n",
    "with zipfile.ZipFile(zip_path, 'r') as zip_ref:\n",
    "    zip_ref.extractall(extract_path)\n",
    "\n",
    "print(\"✅ File extracted successfully.\")\n"
   ]
  },
  {
   "cell_type": "code",
   "execution_count": 5,
   "metadata": {},
   "outputs": [
    {
     "name": "stdout",
     "output_type": "stream",
     "text": [
      "Extracted files and directories:\n",
      "['data.zip', 'samsum-test.csv', 'samsum-train.csv', 'samsum-validation.csv', 'samsum_dataset']\n"
     ]
    }
   ],
   "source": [
    "import os\n",
    "\n",
    "extracted_folder = r\"C:\\Users\\YASWANTH\\Desktop\\Text summary project\\Text-Summary-project-ongoing\\artifacts\\data_ingestion\"\n",
    "\n",
    "print(\"Extracted files and directories:\")\n",
    "print(os.listdir(extracted_folder))\n"
   ]
  },
  {
   "cell_type": "code",
   "execution_count": 6,
   "metadata": {},
   "outputs": [
    {
     "name": "stdout",
     "output_type": "stream",
     "text": [
      "❌ ZIP file is corrupted or not a valid ZIP.\n"
     ]
    }
   ],
   "source": [
    "import zipfile\n",
    "\n",
    "zip_path = r\"C:\\Users\\YASWANTH\\Desktop\\Text summary project\\Text-Summary-project-ongoing\\artifacts\\data_ingestion\\data.zip\"\n",
    "\n",
    "if zipfile.is_zipfile(zip_path):\n",
    "    print(\"✅ ZIP file is valid.\")\n",
    "else:\n",
    "    print(\"❌ ZIP file is corrupted or not a valid ZIP.\")\n"
   ]
  },
  {
   "cell_type": "code",
   "execution_count": 7,
   "metadata": {},
   "outputs": [
    {
     "name": "stdout",
     "output_type": "stream",
     "text": [
      "Requirement already satisfied: requests in c:\\users\\yaswanth\\anaconda3\\envs\\texts\\lib\\site-packages (2.32.3)Note: you may need to restart the kernel to use updated packages.\n",
      "\n",
      "Requirement already satisfied: charset-normalizer<4,>=2 in c:\\users\\yaswanth\\anaconda3\\envs\\texts\\lib\\site-packages (from requests) (3.3.2)\n",
      "Requirement already satisfied: idna<4,>=2.5 in c:\\users\\yaswanth\\anaconda3\\envs\\texts\\lib\\site-packages (from requests) (3.10)\n",
      "Requirement already satisfied: urllib3<3,>=1.21.1 in c:\\users\\yaswanth\\anaconda3\\envs\\texts\\lib\\site-packages (from requests) (2.2.3)\n",
      "Requirement already satisfied: certifi>=2017.4.17 in c:\\users\\yaswanth\\anaconda3\\envs\\texts\\lib\\site-packages (from requests) (2024.8.30)\n"
     ]
    }
   ],
   "source": [
    "%pip install requests\n"
   ]
  },
  {
   "cell_type": "code",
   "execution_count": 8,
   "metadata": {},
   "outputs": [
    {
     "name": "stdout",
     "output_type": "stream",
     "text": [
      "⚠️ No old ZIP file found.\n"
     ]
    }
   ],
   "source": [
    "import os\n",
    "\n",
    "zip_path = \"artifacts/data_ingestion/data.zip\"\n",
    "\n",
    "# Check if the old ZIP exists and delete it\n",
    "if os.path.exists(zip_path):\n",
    "    os.remove(zip_path)\n",
    "    print(\"🗑️ Old ZIP file deleted.\")\n",
    "else:\n",
    "    print(\"⚠️ No old ZIP file found.\")\n"
   ]
  },
  {
   "cell_type": "code",
   "execution_count": 9,
   "metadata": {},
   "outputs": [
    {
     "name": "stdout",
     "output_type": "stream",
     "text": [
      "✅ File downloaded successfully.\n"
     ]
    }
   ],
   "source": [
    "import requests\n",
    "\n",
    "# GitHub raw ZIP file URL\n",
    "github_zip_url = \"https://github.com/Yaswanth191/Datasets/raw/refs/heads/main/samsumdata.zip\"\n",
    "\n",
    "# Local path to save the downloaded file\n",
    "zip_path = r\"C:\\Users\\YASWANTH\\Desktop\\Text summary project\\Text-Summary-project-ongoing\\artifacts\\data_ingestion\\data.zip\"\n",
    "\n",
    "# Download the ZIP file\n",
    "response = requests.get(github_zip_url, stream=True)\n",
    "\n",
    "if response.status_code == 200:\n",
    "    with open(zip_path, \"wb\") as f:\n",
    "        for chunk in response.iter_content(chunk_size=1024):\n",
    "            f.write(chunk)\n",
    "    print(\"✅ File downloaded successfully.\")\n",
    "else:\n",
    "    print(f\"❌ Failed to download. HTTP Status: {response.status_code}\")\n"
   ]
  },
  {
   "cell_type": "code",
   "execution_count": 10,
   "metadata": {},
   "outputs": [
    {
     "name": "stdout",
     "output_type": "stream",
     "text": [
      "✅ ZIP file is valid.\n"
     ]
    }
   ],
   "source": [
    "import zipfile\n",
    "\n",
    "zip_path = r\"C:\\Users\\YASWANTH\\Desktop\\Text summary project\\Text-Summary-project-ongoing\\artifacts\\data_ingestion\\data.zip\"\n",
    "\n",
    "if zipfile.is_zipfile(zip_path):\n",
    "    print(\"✅ ZIP file is valid.\")\n",
    "else:\n",
    "    print(\"❌ ZIP file is not valid.\")\n",
    "\n"
   ]
  },
  {
   "cell_type": "code",
   "execution_count": 11,
   "metadata": {},
   "outputs": [
    {
     "name": "stdout",
     "output_type": "stream",
     "text": [
      "⚠️ File already exists: C:\\Users\\YASWANTH\\Desktop\\Text summary project\\Text-Summary-project-ongoing\\artifacts\\data_ingestion\\data.zip\n",
      "⚠️ File already exists: C:\\Users\\YASWANTH\\Desktop\\Text summary project\\Text-Summary-project-ongoing\\artifacts\\data_ingestion\\samsum-test.csv\n",
      "⚠️ File already exists: C:\\Users\\YASWANTH\\Desktop\\Text summary project\\Text-Summary-project-ongoing\\artifacts\\data_ingestion\\samsum-train.csv\n",
      "⚠️ File already exists: C:\\Users\\YASWANTH\\Desktop\\Text summary project\\Text-Summary-project-ongoing\\artifacts\\data_ingestion\\samsum-validation.csv\n",
      "⚠️ File already exists: C:\\Users\\YASWANTH\\Desktop\\Text summary project\\Text-Summary-project-ongoing\\artifacts\\data_ingestion\\samsum_dataset/\n",
      "⚠️ File already exists: C:\\Users\\YASWANTH\\Desktop\\Text summary project\\Text-Summary-project-ongoing\\artifacts\\data_ingestion\\samsum_dataset/dataset_dict.json\n",
      "⚠️ File already exists: C:\\Users\\YASWANTH\\Desktop\\Text summary project\\Text-Summary-project-ongoing\\artifacts\\data_ingestion\\samsum_dataset/test/\n",
      "⚠️ File already exists: C:\\Users\\YASWANTH\\Desktop\\Text summary project\\Text-Summary-project-ongoing\\artifacts\\data_ingestion\\samsum_dataset/test/cache-be4f1205f3be26be.arrow\n",
      "⚠️ File already exists: C:\\Users\\YASWANTH\\Desktop\\Text summary project\\Text-Summary-project-ongoing\\artifacts\\data_ingestion\\samsum_dataset/test/data-00000-of-00001.arrow\n",
      "⚠️ File already exists: C:\\Users\\YASWANTH\\Desktop\\Text summary project\\Text-Summary-project-ongoing\\artifacts\\data_ingestion\\samsum_dataset/test/dataset_info.json\n",
      "⚠️ File already exists: C:\\Users\\YASWANTH\\Desktop\\Text summary project\\Text-Summary-project-ongoing\\artifacts\\data_ingestion\\samsum_dataset/test/state.json\n",
      "⚠️ File already exists: C:\\Users\\YASWANTH\\Desktop\\Text summary project\\Text-Summary-project-ongoing\\artifacts\\data_ingestion\\samsum_dataset/train/\n",
      "⚠️ File already exists: C:\\Users\\YASWANTH\\Desktop\\Text summary project\\Text-Summary-project-ongoing\\artifacts\\data_ingestion\\samsum_dataset/train/cache-6c8b88c474283be5.arrow\n",
      "⚠️ File already exists: C:\\Users\\YASWANTH\\Desktop\\Text summary project\\Text-Summary-project-ongoing\\artifacts\\data_ingestion\\samsum_dataset/train/data-00000-of-00001.arrow\n",
      "⚠️ File already exists: C:\\Users\\YASWANTH\\Desktop\\Text summary project\\Text-Summary-project-ongoing\\artifacts\\data_ingestion\\samsum_dataset/train/dataset_info.json\n",
      "⚠️ File already exists: C:\\Users\\YASWANTH\\Desktop\\Text summary project\\Text-Summary-project-ongoing\\artifacts\\data_ingestion\\samsum_dataset/train/state.json\n",
      "⚠️ File already exists: C:\\Users\\YASWANTH\\Desktop\\Text summary project\\Text-Summary-project-ongoing\\artifacts\\data_ingestion\\samsum_dataset/validation/\n",
      "⚠️ File already exists: C:\\Users\\YASWANTH\\Desktop\\Text summary project\\Text-Summary-project-ongoing\\artifacts\\data_ingestion\\samsum_dataset/validation/cache-3bdbc00a75330eee.arrow\n",
      "⚠️ File already exists: C:\\Users\\YASWANTH\\Desktop\\Text summary project\\Text-Summary-project-ongoing\\artifacts\\data_ingestion\\samsum_dataset/validation/data-00000-of-00001.arrow\n",
      "⚠️ File already exists: C:\\Users\\YASWANTH\\Desktop\\Text summary project\\Text-Summary-project-ongoing\\artifacts\\data_ingestion\\samsum_dataset/validation/dataset_info.json\n",
      "⚠️ File already exists: C:\\Users\\YASWANTH\\Desktop\\Text summary project\\Text-Summary-project-ongoing\\artifacts\\data_ingestion\\samsum_dataset/validation/state.json\n"
     ]
    }
   ],
   "source": [
    "import zipfile\n",
    "import os\n",
    "\n",
    "zip_path = r\"C:\\Users\\YASWANTH\\Desktop\\samsumdata.zip\"\n",
    "extracted_folder = r\"C:\\Users\\YASWANTH\\Desktop\\Text summary project\\Text-Summary-project-ongoing\\artifacts\\data_ingestion\"\n",
    "\n",
    "with zipfile.ZipFile(zip_path, 'r') as zip_ref:\n",
    "    for file in zip_ref.namelist():\n",
    "        file_path = os.path.join(extracted_folder, file)\n",
    "        if os.path.exists(file_path):\n",
    "            print(f\"⚠️ File already exists: {file_path}\")\n",
    "        else:\n",
    "            zip_ref.extract(file, extracted_folder)\n",
    "            print(f\"✅ Extracted: {file}\")\n"
   ]
  },
  {
   "cell_type": "code",
   "execution_count": 12,
   "metadata": {},
   "outputs": [
    {
     "name": "stdout",
     "output_type": "stream",
     "text": [
      "Extracted files and directories:\n",
      "C:\\Users\\YASWANTH\\Desktop\\Text summary project\\Text-Summary-project-ongoing\\artifacts\\data_ingestion\\data.zip\n",
      "C:\\Users\\YASWANTH\\Desktop\\Text summary project\\Text-Summary-project-ongoing\\artifacts\\data_ingestion\\samsum-test.csv\n",
      "C:\\Users\\YASWANTH\\Desktop\\Text summary project\\Text-Summary-project-ongoing\\artifacts\\data_ingestion\\samsum-train.csv\n",
      "C:\\Users\\YASWANTH\\Desktop\\Text summary project\\Text-Summary-project-ongoing\\artifacts\\data_ingestion\\samsum-validation.csv\n",
      "C:\\Users\\YASWANTH\\Desktop\\Text summary project\\Text-Summary-project-ongoing\\artifacts\\data_ingestion\\samsum_dataset\\dataset_dict.json\n",
      "C:\\Users\\YASWANTH\\Desktop\\Text summary project\\Text-Summary-project-ongoing\\artifacts\\data_ingestion\\samsum_dataset\\test\\cache-be4f1205f3be26be.arrow\n",
      "C:\\Users\\YASWANTH\\Desktop\\Text summary project\\Text-Summary-project-ongoing\\artifacts\\data_ingestion\\samsum_dataset\\test\\data-00000-of-00001.arrow\n",
      "C:\\Users\\YASWANTH\\Desktop\\Text summary project\\Text-Summary-project-ongoing\\artifacts\\data_ingestion\\samsum_dataset\\test\\dataset_info.json\n",
      "C:\\Users\\YASWANTH\\Desktop\\Text summary project\\Text-Summary-project-ongoing\\artifacts\\data_ingestion\\samsum_dataset\\test\\state.json\n",
      "C:\\Users\\YASWANTH\\Desktop\\Text summary project\\Text-Summary-project-ongoing\\artifacts\\data_ingestion\\samsum_dataset\\train\\cache-6c8b88c474283be5.arrow\n",
      "C:\\Users\\YASWANTH\\Desktop\\Text summary project\\Text-Summary-project-ongoing\\artifacts\\data_ingestion\\samsum_dataset\\train\\data-00000-of-00001.arrow\n",
      "C:\\Users\\YASWANTH\\Desktop\\Text summary project\\Text-Summary-project-ongoing\\artifacts\\data_ingestion\\samsum_dataset\\train\\dataset_info.json\n",
      "C:\\Users\\YASWANTH\\Desktop\\Text summary project\\Text-Summary-project-ongoing\\artifacts\\data_ingestion\\samsum_dataset\\train\\state.json\n",
      "C:\\Users\\YASWANTH\\Desktop\\Text summary project\\Text-Summary-project-ongoing\\artifacts\\data_ingestion\\samsum_dataset\\validation\\cache-3bdbc00a75330eee.arrow\n",
      "C:\\Users\\YASWANTH\\Desktop\\Text summary project\\Text-Summary-project-ongoing\\artifacts\\data_ingestion\\samsum_dataset\\validation\\data-00000-of-00001.arrow\n",
      "C:\\Users\\YASWANTH\\Desktop\\Text summary project\\Text-Summary-project-ongoing\\artifacts\\data_ingestion\\samsum_dataset\\validation\\dataset_info.json\n",
      "C:\\Users\\YASWANTH\\Desktop\\Text summary project\\Text-Summary-project-ongoing\\artifacts\\data_ingestion\\samsum_dataset\\validation\\state.json\n"
     ]
    }
   ],
   "source": [
    "import os\n",
    "\n",
    "extracted_folder = r\"C:\\Users\\YASWANTH\\Desktop\\Text summary project\\Text-Summary-project-ongoing\\artifacts\\data_ingestion\"\n",
    "\n",
    "print(\"Extracted files and directories:\")\n",
    "for root, dirs, files in os.walk(extracted_folder):\n",
    "    for name in files:\n",
    "        print(os.path.join(root, name))\n"
   ]
  },
  {
   "cell_type": "code",
   "execution_count": 13,
   "metadata": {},
   "outputs": [
    {
     "name": "stdout",
     "output_type": "stream",
     "text": [
      "Requirement already satisfied: pandas in c:\\users\\yaswanth\\anaconda3\\envs\\texts\\lib\\site-packages (2.0.3)\n",
      "Requirement already satisfied: python-dateutil>=2.8.2 in c:\\users\\yaswanth\\anaconda3\\envs\\texts\\lib\\site-packages (from pandas) (2.9.0)\n",
      "Requirement already satisfied: pytz>=2020.1 in c:\\users\\yaswanth\\anaconda3\\envs\\texts\\lib\\site-packages (from pandas) (2025.1)\n",
      "Requirement already satisfied: tzdata>=2022.1 in c:\\users\\yaswanth\\anaconda3\\envs\\texts\\lib\\site-packages (from pandas) (2025.1)\n",
      "Requirement already satisfied: numpy>=1.20.3 in c:\\users\\yaswanth\\anaconda3\\envs\\texts\\lib\\site-packages (from pandas) (1.24.4)\n",
      "Requirement already satisfied: six>=1.5 in c:\\users\\yaswanth\\anaconda3\\envs\\texts\\lib\\site-packages (from python-dateutil>=2.8.2->pandas) (1.16.0)\n",
      "Note: you may need to restart the kernel to use updated packages.\n",
      "✅ DataFrames loaded successfully.\n",
      "Train Set Shape: (14732, 3)\n",
      "Test Set Shape: (819, 3)\n",
      "Validation Set Shape: (818, 3)\n"
     ]
    }
   ],
   "source": [
    "%pip install pandas\n",
    "\n",
    "import pandas as pd\n",
    "\n",
    "# Define paths\n",
    "train_path = r\"C:\\Users\\YASWANTH\\Desktop\\Text summary project\\Text-Summary-project-ongoing\\artifacts\\data_ingestion\\samsum-train.csv\"\n",
    "test_path = r\"C:\\Users\\YASWANTH\\Desktop\\Text summary project\\Text-Summary-project-ongoing\\artifacts\\data_ingestion\\samsum-test.csv\"\n",
    "val_path = r\"C:\\Users\\YASWANTH\\Desktop\\Text summary project\\Text-Summary-project-ongoing\\artifacts\\data_ingestion\\samsum-validation.csv\"\n",
    "\n",
    "# Load into DataFrames\n",
    "train_df = pd.read_csv(train_path)\n",
    "test_df = pd.read_csv(test_path)\n",
    "val_df = pd.read_csv(val_path)\n",
    "\n",
    "print(\"✅ DataFrames loaded successfully.\")\n",
    "print(\"Train Set Shape:\", train_df.shape)\n",
    "print(\"Test Set Shape:\", test_df.shape)\n",
    "print(\"Validation Set Shape:\", val_df.shape)\n"
   ]
  },
  {
   "cell_type": "code",
   "execution_count": 14,
   "metadata": {},
   "outputs": [
    {
     "name": "stdout",
     "output_type": "stream",
     "text": [
      "id          0\n",
      "dialogue    1\n",
      "summary     0\n",
      "dtype: int64\n",
      "id          0\n",
      "dialogue    0\n",
      "summary     0\n",
      "dtype: int64\n",
      "id          0\n",
      "dialogue    0\n",
      "summary     0\n",
      "dtype: int64\n"
     ]
    }
   ],
   "source": [
    "print(train_df.isnull().sum())\n",
    "print(test_df.isnull().sum())\n",
    "print(val_df.isnull().sum())\n"
   ]
  },
  {
   "cell_type": "code",
   "execution_count": 15,
   "metadata": {},
   "outputs": [
    {
     "name": "stdout",
     "output_type": "stream",
     "text": [
      "<class 'pandas.core.frame.DataFrame'>\n",
      "RangeIndex: 14732 entries, 0 to 14731\n",
      "Data columns (total 3 columns):\n",
      " #   Column    Non-Null Count  Dtype \n",
      "---  ------    --------------  ----- \n",
      " 0   id        14732 non-null  object\n",
      " 1   dialogue  14731 non-null  object\n",
      " 2   summary   14732 non-null  object\n",
      "dtypes: object(3)\n",
      "memory usage: 345.4+ KB\n",
      "None\n"
     ]
    }
   ],
   "source": [
    "print(train_df.info())\n"
   ]
  },
  {
   "cell_type": "code",
   "execution_count": 16,
   "metadata": {},
   "outputs": [
    {
     "name": "stdout",
     "output_type": "stream",
     "text": [
      "id          0\n",
      "dialogue    1\n",
      "summary     0\n",
      "dtype: int64\n"
     ]
    }
   ],
   "source": [
    "import pandas as pd\n",
    "\n",
    "# Define path\n",
    "train_path = r\"C:\\Users\\YASWANTH\\Desktop\\Text summary project\\Text-Summary-project-ongoing\\artifacts\\data_ingestion\\samsum-train.csv\"\n",
    "\n",
    "# Load dataset\n",
    "df = pd.read_csv(train_path)\n",
    "\n",
    "# Check for missing values\n",
    "print(df.isnull().sum())\n",
    "\n"
   ]
  },
  {
   "cell_type": "code",
   "execution_count": 17,
   "metadata": {},
   "outputs": [
    {
     "name": "stdout",
     "output_type": "stream",
     "text": [
      "<class 'pandas.core.frame.DataFrame'>\n",
      "RangeIndex: 14732 entries, 0 to 14731\n",
      "Data columns (total 3 columns):\n",
      " #   Column    Non-Null Count  Dtype \n",
      "---  ------    --------------  ----- \n",
      " 0   id        14732 non-null  object\n",
      " 1   dialogue  14731 non-null  object\n",
      " 2   summary   14732 non-null  object\n",
      "dtypes: object(3)\n",
      "memory usage: 345.4+ KB\n",
      "None\n",
      "         id                                           dialogue  \\\n",
      "0  13818513  Amanda: I baked  cookies. Do you want some?\\r\\...   \n",
      "1  13728867  Olivia: Who are you voting for in this electio...   \n",
      "2  13681000  Tim: Hi, what's up?\\r\\nKim: Bad mood tbh, I wa...   \n",
      "3  13730747  Edward: Rachel, I think I'm in ove with Bella....   \n",
      "4  13728094  Sam: hey  overheard rick say something\\r\\nSam:...   \n",
      "\n",
      "                                             summary  \n",
      "0  Amanda baked cookies and will bring Jerry some...  \n",
      "1  Olivia and Olivier are voting for liberals in ...  \n",
      "2  Kim may try the pomodoro technique recommended...  \n",
      "3  Edward thinks he is in love with Bella. Rachel...  \n",
      "4  Sam is confused, because he overheard Rick com...  \n"
     ]
    }
   ],
   "source": [
    "import pandas as pd\n",
    "\n",
    "# Define the file path\n",
    "train_path = r\"C:\\Users\\YASWANTH\\Desktop\\Text summary project\\Text-Summary-project-ongoing\\artifacts\\data_ingestion\\samsum-train.csv\"\n",
    "\n",
    "# Load the dataset\n",
    "df = pd.read_csv(train_path)\n",
    "\n",
    "# Check if it's loaded properly\n",
    "print(df.info())\n",
    "print(df.head())\n"
   ]
  },
  {
   "cell_type": "code",
   "execution_count": 18,
   "metadata": {},
   "outputs": [
    {
     "name": "stdout",
     "output_type": "stream",
     "text": [
      "Duplicate rows: 0\n",
      "After removing duplicates: 0\n"
     ]
    }
   ],
   "source": [
    "print(f\"Duplicate rows: {df.duplicated().sum()}\")  # Count duplicate rows\n",
    "df.drop_duplicates(inplace=True)  # Remove duplicates if any\n",
    "print(f\"After removing duplicates: {df.duplicated().sum()}\")\n"
   ]
  },
  {
   "cell_type": "code",
   "execution_count": 21,
   "metadata": {},
   "outputs": [],
   "source": [
    "df['dialogue_length'] = df['dialogue'].astype(str).apply(len)\n",
    "df['summary_length'] = df['summary'].astype(str).apply(len)\n"
   ]
  },
  {
   "cell_type": "code",
   "execution_count": 22,
   "metadata": {},
   "outputs": [],
   "source": [
    "df = df.dropna(subset=['dialogue', 'summary'])\n",
    "df['dialogue_length'] = df['dialogue'].apply(len)\n",
    "df['summary_length'] = df['summary'].apply(len)\n"
   ]
  },
  {
   "cell_type": "code",
   "execution_count": 23,
   "metadata": {},
   "outputs": [],
   "source": [
    "df['dialogue'] = df['dialogue'].fillna(\"\")\n",
    "df['summary'] = df['summary'].fillna(\"\")\n",
    "df['dialogue_length'] = df['dialogue'].apply(len)\n",
    "df['summary_length'] = df['summary'].apply(len)\n"
   ]
  },
  {
   "cell_type": "code",
   "execution_count": 24,
   "metadata": {},
   "outputs": [
    {
     "name": "stdout",
     "output_type": "stream",
     "text": [
      "Requirement already satisfied: matplotlib in c:\\users\\yaswanth\\anaconda3\\envs\\texts\\lib\\site-packages (3.7.5)\n",
      "Requirement already satisfied: contourpy>=1.0.1 in c:\\users\\yaswanth\\anaconda3\\envs\\texts\\lib\\site-packages (from matplotlib) (1.1.1)\n",
      "Requirement already satisfied: cycler>=0.10 in c:\\users\\yaswanth\\anaconda3\\envs\\texts\\lib\\site-packages (from matplotlib) (0.12.1)\n",
      "Requirement already satisfied: fonttools>=4.22.0 in c:\\users\\yaswanth\\anaconda3\\envs\\texts\\lib\\site-packages (from matplotlib) (4.56.0)\n",
      "Requirement already satisfied: kiwisolver>=1.0.1 in c:\\users\\yaswanth\\anaconda3\\envs\\texts\\lib\\site-packages (from matplotlib) (1.4.7)\n",
      "Requirement already satisfied: numpy<2,>=1.20 in c:\\users\\yaswanth\\anaconda3\\envs\\texts\\lib\\site-packages (from matplotlib) (1.24.4)\n",
      "Requirement already satisfied: packaging>=20.0 in c:\\users\\yaswanth\\anaconda3\\envs\\texts\\lib\\site-packages (from matplotlib) (24.2)\n",
      "Requirement already satisfied: pillow>=6.2.0 in c:\\users\\yaswanth\\anaconda3\\envs\\texts\\lib\\site-packages (from matplotlib) (10.4.0)\n",
      "Requirement already satisfied: pyparsing>=2.3.1 in c:\\users\\yaswanth\\anaconda3\\envs\\texts\\lib\\site-packages (from matplotlib) (3.1.4)\n",
      "Requirement already satisfied: python-dateutil>=2.7 in c:\\users\\yaswanth\\anaconda3\\envs\\texts\\lib\\site-packages (from matplotlib) (2.9.0)\n",
      "Requirement already satisfied: importlib-resources>=3.2.0 in c:\\users\\yaswanth\\anaconda3\\envs\\texts\\lib\\site-packages (from matplotlib) (6.4.5)\n",
      "Requirement already satisfied: zipp>=3.1.0 in c:\\users\\yaswanth\\anaconda3\\envs\\texts\\lib\\site-packages (from importlib-resources>=3.2.0->matplotlib) (3.21.0)\n",
      "Requirement already satisfied: six>=1.5 in c:\\users\\yaswanth\\anaconda3\\envs\\texts\\lib\\site-packages (from python-dateutil>=2.7->matplotlib) (1.16.0)\n",
      "Note: you may need to restart the kernel to use updated packages.\n",
      "Requirement already satisfied: seaborn in c:\\users\\yaswanth\\anaconda3\\envs\\texts\\lib\\site-packages (0.13.2)Note: you may need to restart the kernel to use updated packages.\n",
      "\n",
      "Requirement already satisfied: numpy!=1.24.0,>=1.20 in c:\\users\\yaswanth\\anaconda3\\envs\\texts\\lib\\site-packages (from seaborn) (1.24.4)\n",
      "Requirement already satisfied: pandas>=1.2 in c:\\users\\yaswanth\\anaconda3\\envs\\texts\\lib\\site-packages (from seaborn) (2.0.3)\n",
      "Requirement already satisfied: matplotlib!=3.6.1,>=3.4 in c:\\users\\yaswanth\\anaconda3\\envs\\texts\\lib\\site-packages (from seaborn) (3.7.5)\n",
      "Requirement already satisfied: contourpy>=1.0.1 in c:\\users\\yaswanth\\anaconda3\\envs\\texts\\lib\\site-packages (from matplotlib!=3.6.1,>=3.4->seaborn) (1.1.1)\n",
      "Requirement already satisfied: cycler>=0.10 in c:\\users\\yaswanth\\anaconda3\\envs\\texts\\lib\\site-packages (from matplotlib!=3.6.1,>=3.4->seaborn) (0.12.1)\n",
      "Requirement already satisfied: fonttools>=4.22.0 in c:\\users\\yaswanth\\anaconda3\\envs\\texts\\lib\\site-packages (from matplotlib!=3.6.1,>=3.4->seaborn) (4.56.0)\n",
      "Requirement already satisfied: kiwisolver>=1.0.1 in c:\\users\\yaswanth\\anaconda3\\envs\\texts\\lib\\site-packages (from matplotlib!=3.6.1,>=3.4->seaborn) (1.4.7)\n",
      "Requirement already satisfied: packaging>=20.0 in c:\\users\\yaswanth\\anaconda3\\envs\\texts\\lib\\site-packages (from matplotlib!=3.6.1,>=3.4->seaborn) (24.2)\n",
      "Requirement already satisfied: pillow>=6.2.0 in c:\\users\\yaswanth\\anaconda3\\envs\\texts\\lib\\site-packages (from matplotlib!=3.6.1,>=3.4->seaborn) (10.4.0)\n",
      "Requirement already satisfied: pyparsing>=2.3.1 in c:\\users\\yaswanth\\anaconda3\\envs\\texts\\lib\\site-packages (from matplotlib!=3.6.1,>=3.4->seaborn) (3.1.4)\n",
      "Requirement already satisfied: python-dateutil>=2.7 in c:\\users\\yaswanth\\anaconda3\\envs\\texts\\lib\\site-packages (from matplotlib!=3.6.1,>=3.4->seaborn) (2.9.0)\n",
      "Requirement already satisfied: importlib-resources>=3.2.0 in c:\\users\\yaswanth\\anaconda3\\envs\\texts\\lib\\site-packages (from matplotlib!=3.6.1,>=3.4->seaborn) (6.4.5)\n",
      "Requirement already satisfied: pytz>=2020.1 in c:\\users\\yaswanth\\anaconda3\\envs\\texts\\lib\\site-packages (from pandas>=1.2->seaborn) (2025.1)\n",
      "Requirement already satisfied: tzdata>=2022.1 in c:\\users\\yaswanth\\anaconda3\\envs\\texts\\lib\\site-packages (from pandas>=1.2->seaborn) (2025.1)\n",
      "Requirement already satisfied: zipp>=3.1.0 in c:\\users\\yaswanth\\anaconda3\\envs\\texts\\lib\\site-packages (from importlib-resources>=3.2.0->matplotlib!=3.6.1,>=3.4->seaborn) (3.21.0)\n",
      "Requirement already satisfied: six>=1.5 in c:\\users\\yaswanth\\anaconda3\\envs\\texts\\lib\\site-packages (from python-dateutil>=2.7->matplotlib!=3.6.1,>=3.4->seaborn) (1.16.0)\n"
     ]
    },
    {
     "data": {
      "image/png": "[encoded data removed]",
      "text/plain": [
       "<Figure size 1000x500 with 1 Axes>"
      ]
     },
     "metadata": {},
     "output_type": "display_data"
    }
   ],
   "source": [
    "%pip install matplotlib\n",
    "%pip install seaborn\n",
    "import matplotlib.pyplot as plt\n",
    "import seaborn as sns\n",
    "\n",
    "# Plot distribution of dialogue and summary lengths\n",
    "df['dialogue_length'] = df['dialogue'].apply(len)\n",
    "df['summary_length'] = df['summary'].apply(len)\n",
    "\n",
    "plt.figure(figsize=(10, 5))\n",
    "sns.histplot(df['dialogue_length'], bins=50, kde=True, color='blue', label='Dialogue Length')\n",
    "sns.histplot(df['summary_length'], bins=50, kde=True, color='red', label='Summary Length')\n",
    "plt.legend()\n",
    "plt.title(\"Dialogue vs Summary Length Distribution\")\n",
    "plt.xlabel(\"Number of Characters\")\n",
    "plt.ylabel(\"Frequency\")\n",
    "plt.show()\n"
   ]
  }
 ],
 "metadata": {
  "kernelspec": {
   "display_name": "texts",
   "language": "python",
   "name": "python3"
  },
  "language_info": {
   "codemirror_mode": {
    "name": "ipython",
    "version": 3
   },
   "file_extension": ".py",
   "mimetype": "text/x-python",
   "name": "python",
   "nbconvert_exporter": "python",
   "pygments_lexer": "ipython3",
   "version": "3.8.20"
  }
 },
 "nbformat": 4,
 "nbformat_minor": 2
}
